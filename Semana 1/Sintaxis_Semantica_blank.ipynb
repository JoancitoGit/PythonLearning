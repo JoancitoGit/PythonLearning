{
 "cells": [
  {
   "cell_type": "markdown",
   "id": "040d3462",
   "metadata": {},
   "source": [
    "# Sintaxis y Semántica de Python"
   ]
  },
  {
   "cell_type": "markdown",
   "id": "6bf12de2",
   "metadata": {},
   "source": [
    "La descripción de un lenguaje de programación viene determinada por dos componentes principales, la **sintaxis** y la **semántica** del lenguaje.\n",
    "* **Sintaxis**: La sintaxis de un lenguaje de programación es el conjunto de reglas que define las combinaciones de símbolos que se consideran declaraciones o expresiones válidas en ese lenguaje.\n",
    "* **Semántica**: La semántica es el campo que se ocupa del estudio matemático riguroso del significado de los lenguajes de programación. Para ello, evalúa el significado de las cadenas sintácticamente válidas definidas por un lenguaje de programación específico."
   ]
  },
  {
   "cell_type": "code",
   "execution_count": 1,
   "id": "305e4664",
   "metadata": {},
   "outputs": [
    {
     "name": "stdout",
     "output_type": "stream",
     "text": [
      "Hola Mundo\n"
     ]
    }
   ],
   "source": [
    "print(\"Hola Mundo\")"
   ]
  },
  {
   "cell_type": "code",
   "execution_count": null,
   "id": "bff207dc",
   "metadata": {},
   "outputs": [],
   "source": []
  }
 ],
 "metadata": {
  "kernelspec": {
   "display_name": "Python 3 (ipykernel)",
   "language": "python",
   "name": "python3"
  },
  "language_info": {
   "codemirror_mode": {
    "name": "ipython",
    "version": 3
   },
   "file_extension": ".py",
   "mimetype": "text/x-python",
   "name": "python",
   "nbconvert_exporter": "python",
   "pygments_lexer": "ipython3",
   "version": "3.12.4"
  }
 },
 "nbformat": 4,
 "nbformat_minor": 5
}
